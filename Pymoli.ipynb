{
 "cells": [
  {
   "cell_type": "code",
   "execution_count": 761,
   "metadata": {
    "collapsed": true
   },
   "outputs": [],
   "source": [
    "import pandas as pd\n",
    "import numpy as np"
   ]
  },
  {
   "cell_type": "code",
   "execution_count": 762,
   "metadata": {
    "scrolled": true
   },
   "outputs": [
    {
     "data": {
      "text/html": [
       "<div>\n",
       "<style>\n",
       "    .dataframe thead tr:only-child th {\n",
       "        text-align: right;\n",
       "    }\n",
       "\n",
       "    .dataframe thead th {\n",
       "        text-align: left;\n",
       "    }\n",
       "\n",
       "    .dataframe tbody tr th {\n",
       "        vertical-align: top;\n",
       "    }\n",
       "</style>\n",
       "<table border=\"1\" class=\"dataframe\">\n",
       "  <thead>\n",
       "    <tr style=\"text-align: right;\">\n",
       "      <th></th>\n",
       "      <th>Age</th>\n",
       "      <th>Gender</th>\n",
       "      <th>Item ID</th>\n",
       "      <th>Item Name</th>\n",
       "      <th>Price</th>\n",
       "      <th>SN</th>\n",
       "    </tr>\n",
       "  </thead>\n",
       "  <tbody>\n",
       "    <tr>\n",
       "      <th>0</th>\n",
       "      <td>20</td>\n",
       "      <td>Male</td>\n",
       "      <td>93</td>\n",
       "      <td>Apocalyptic Battlescythe</td>\n",
       "      <td>4.49</td>\n",
       "      <td>Iloni35</td>\n",
       "    </tr>\n",
       "    <tr>\n",
       "      <th>1</th>\n",
       "      <td>21</td>\n",
       "      <td>Male</td>\n",
       "      <td>12</td>\n",
       "      <td>Dawne</td>\n",
       "      <td>3.36</td>\n",
       "      <td>Aidaira26</td>\n",
       "    </tr>\n",
       "    <tr>\n",
       "      <th>2</th>\n",
       "      <td>17</td>\n",
       "      <td>Male</td>\n",
       "      <td>5</td>\n",
       "      <td>Putrid Fan</td>\n",
       "      <td>2.63</td>\n",
       "      <td>Irim47</td>\n",
       "    </tr>\n",
       "    <tr>\n",
       "      <th>3</th>\n",
       "      <td>17</td>\n",
       "      <td>Male</td>\n",
       "      <td>123</td>\n",
       "      <td>Twilight's Carver</td>\n",
       "      <td>2.55</td>\n",
       "      <td>Irith83</td>\n",
       "    </tr>\n",
       "    <tr>\n",
       "      <th>4</th>\n",
       "      <td>22</td>\n",
       "      <td>Male</td>\n",
       "      <td>154</td>\n",
       "      <td>Feral Katana</td>\n",
       "      <td>4.11</td>\n",
       "      <td>Philodil43</td>\n",
       "    </tr>\n",
       "    <tr>\n",
       "      <th>5</th>\n",
       "      <td>8</td>\n",
       "      <td>Male</td>\n",
       "      <td>8</td>\n",
       "      <td>Purgatory, Gem of Regret</td>\n",
       "      <td>2.22</td>\n",
       "      <td>Hainaria90</td>\n",
       "    </tr>\n",
       "    <tr>\n",
       "      <th>6</th>\n",
       "      <td>40</td>\n",
       "      <td>Male</td>\n",
       "      <td>148</td>\n",
       "      <td>Warmonger, Gift of Suffering's End</td>\n",
       "      <td>4.65</td>\n",
       "      <td>Aerithllora36</td>\n",
       "    </tr>\n",
       "    <tr>\n",
       "      <th>7</th>\n",
       "      <td>28</td>\n",
       "      <td>Male</td>\n",
       "      <td>27</td>\n",
       "      <td>Riddle, Tribute of Ended Dreams</td>\n",
       "      <td>3.38</td>\n",
       "      <td>Undirra90</td>\n",
       "    </tr>\n",
       "    <tr>\n",
       "      <th>8</th>\n",
       "      <td>18</td>\n",
       "      <td>Male</td>\n",
       "      <td>111</td>\n",
       "      <td>Misery's End</td>\n",
       "      <td>1.79</td>\n",
       "      <td>Eolideu96</td>\n",
       "    </tr>\n",
       "    <tr>\n",
       "      <th>9</th>\n",
       "      <td>36</td>\n",
       "      <td>Male</td>\n",
       "      <td>139</td>\n",
       "      <td>Mercy, Katana of Dismay</td>\n",
       "      <td>4.25</td>\n",
       "      <td>Aesurstilis64</td>\n",
       "    </tr>\n",
       "  </tbody>\n",
       "</table>\n",
       "</div>"
      ],
      "text/plain": [
       "   Age Gender  Item ID                           Item Name  Price  \\\n",
       "0   20   Male       93            Apocalyptic Battlescythe   4.49   \n",
       "1   21   Male       12                               Dawne   3.36   \n",
       "2   17   Male        5                          Putrid Fan   2.63   \n",
       "3   17   Male      123                   Twilight's Carver   2.55   \n",
       "4   22   Male      154                        Feral Katana   4.11   \n",
       "5    8   Male        8            Purgatory, Gem of Regret   2.22   \n",
       "6   40   Male      148  Warmonger, Gift of Suffering's End   4.65   \n",
       "7   28   Male       27     Riddle, Tribute of Ended Dreams   3.38   \n",
       "8   18   Male      111                        Misery's End   1.79   \n",
       "9   36   Male      139             Mercy, Katana of Dismay   4.25   \n",
       "\n",
       "              SN  \n",
       "0        Iloni35  \n",
       "1      Aidaira26  \n",
       "2         Irim47  \n",
       "3        Irith83  \n",
       "4     Philodil43  \n",
       "5     Hainaria90  \n",
       "6  Aerithllora36  \n",
       "7      Undirra90  \n",
       "8      Eolideu96  \n",
       "9  Aesurstilis64  "
      ]
     },
     "execution_count": 762,
     "metadata": {},
     "output_type": "execute_result"
    }
   ],
   "source": [
    "HofP=pd.read_json('./HeroesOfPymoli/purchase_data2.json')\n",
    "HofP.head(10)"
   ]
  },
  {
   "cell_type": "markdown",
   "metadata": {},
   "source": [
    "### Player Count"
   ]
  },
  {
   "cell_type": "code",
   "execution_count": 763,
   "metadata": {},
   "outputs": [
    {
     "data": {
      "text/html": [
       "<div>\n",
       "<style>\n",
       "    .dataframe thead tr:only-child th {\n",
       "        text-align: right;\n",
       "    }\n",
       "\n",
       "    .dataframe thead th {\n",
       "        text-align: left;\n",
       "    }\n",
       "\n",
       "    .dataframe tbody tr th {\n",
       "        vertical-align: top;\n",
       "    }\n",
       "</style>\n",
       "<table border=\"1\" class=\"dataframe\">\n",
       "  <thead>\n",
       "    <tr style=\"text-align: right;\">\n",
       "      <th></th>\n",
       "      <th>Total Players</th>\n",
       "    </tr>\n",
       "  </thead>\n",
       "  <tbody>\n",
       "    <tr>\n",
       "      <th>0</th>\n",
       "      <td>74</td>\n",
       "    </tr>\n",
       "  </tbody>\n",
       "</table>\n",
       "</div>"
      ],
      "text/plain": [
       "   Total Players\n",
       "0             74"
      ]
     },
     "execution_count": 763,
     "metadata": {},
     "output_type": "execute_result"
    }
   ],
   "source": [
    "pd.DataFrame(data={'Total Players': [HofP['SN'].nunique()]})"
   ]
  },
  {
   "cell_type": "markdown",
   "metadata": {},
   "source": [
    "### Purchasing Analysis (Total)"
   ]
  },
  {
   "cell_type": "code",
   "execution_count": 764,
   "metadata": {},
   "outputs": [
    {
     "data": {
      "text/html": [
       "<div>\n",
       "<style>\n",
       "    .dataframe thead tr:only-child th {\n",
       "        text-align: right;\n",
       "    }\n",
       "\n",
       "    .dataframe thead th {\n",
       "        text-align: left;\n",
       "    }\n",
       "\n",
       "    .dataframe tbody tr th {\n",
       "        vertical-align: top;\n",
       "    }\n",
       "</style>\n",
       "<table border=\"1\" class=\"dataframe\">\n",
       "  <thead>\n",
       "    <tr style=\"text-align: right;\">\n",
       "      <th></th>\n",
       "      <th>Number of Unique Items</th>\n",
       "      <th>Average Price</th>\n",
       "      <th>Number of Purchases</th>\n",
       "      <th>Total Revenue</th>\n",
       "    </tr>\n",
       "  </thead>\n",
       "  <tbody>\n",
       "    <tr>\n",
       "      <th>0</th>\n",
       "      <td>64</td>\n",
       "      <td>$2.92</td>\n",
       "      <td>78</td>\n",
       "      <td>$228.10</td>\n",
       "    </tr>\n",
       "  </tbody>\n",
       "</table>\n",
       "</div>"
      ],
      "text/plain": [
       "   Number of Unique Items Average Price  Number of Purchases Total Revenue\n",
       "0                      64         $2.92                   78       $228.10"
      ]
     },
     "execution_count": 764,
     "metadata": {},
     "output_type": "execute_result"
    }
   ],
   "source": [
    "keys =['Number of Unique Items','Average Price','Number of Purchases','Total Revenue']\n",
    "unique_items= HofP['Item ID'].nunique()                  \n",
    "ave_price = HofP['Price'].mean()\n",
    "total_purchase = HofP['Item ID'].count()\n",
    "total_revenue = HofP['Price'].sum()\n",
    "purchase_ana = {'Number of Unique Items': [unique_items],'Average Price': [ave_price],\n",
    "                'Number of Purchases': [total_purchase],'Total Revenue': [total_revenue]}\n",
    "purchase_ana_df = pd.DataFrame(data=purchase_ana, columns=keys)\n",
    "purchase_ana_df['Average Price'] = purchase_ana_df['Average Price'].map('${:,.2f}'.format)\n",
    "purchase_ana_df['Total Revenue'] = purchase_ana_df['Total Revenue'].map('${:,.2f}'.format)\n",
    "purchase_ana_df"
   ]
  },
  {
   "cell_type": "markdown",
   "metadata": {
    "collapsed": true
   },
   "source": [
    "### Gender Demographics"
   ]
  },
  {
   "cell_type": "code",
   "execution_count": 765,
   "metadata": {},
   "outputs": [
    {
     "data": {
      "text/html": [
       "<div>\n",
       "<style>\n",
       "    .dataframe thead tr:only-child th {\n",
       "        text-align: right;\n",
       "    }\n",
       "\n",
       "    .dataframe thead th {\n",
       "        text-align: left;\n",
       "    }\n",
       "\n",
       "    .dataframe tbody tr th {\n",
       "        vertical-align: top;\n",
       "    }\n",
       "</style>\n",
       "<table border=\"1\" class=\"dataframe\">\n",
       "  <thead>\n",
       "    <tr style=\"text-align: right;\">\n",
       "      <th></th>\n",
       "      <th>Percentage of Players</th>\n",
       "      <th>Total Count</th>\n",
       "    </tr>\n",
       "  </thead>\n",
       "  <tbody>\n",
       "    <tr>\n",
       "      <th>Male</th>\n",
       "      <td>81.08</td>\n",
       "      <td>60</td>\n",
       "    </tr>\n",
       "    <tr>\n",
       "      <th>Female</th>\n",
       "      <td>17.57</td>\n",
       "      <td>13</td>\n",
       "    </tr>\n",
       "    <tr>\n",
       "      <th>Other / Non-Disclosed</th>\n",
       "      <td>1.35</td>\n",
       "      <td>1</td>\n",
       "    </tr>\n",
       "  </tbody>\n",
       "</table>\n",
       "</div>"
      ],
      "text/plain": [
       "                      Percentage of Players   Total Count \n",
       "Male                                  81.08             60\n",
       "Female                                17.57             13\n",
       "Other / Non-Disclosed                  1.35              1"
      ]
     },
     "execution_count": 765,
     "metadata": {},
     "output_type": "execute_result"
    }
   ],
   "source": [
    "cols=['Percentage of Players',' Total Count ']\n",
    "genders=[HofP['Gender'].unique()]\n",
    "gender_grp_counts=pd.DataFrame(HofP.groupby(HofP['Gender'])['SN'].nunique(), \n",
    "                               index=genders)\n",
    "per_plyr=pd.DataFrame(gender_grp_counts['SN']/gender_grp_counts['SN'].sum()*100)\n",
    "res=per_plyr.set_index(genders).join(gender_grp_counts.set_index(genders),\n",
    "                                                     lsuffix='0', rsuffix='1')\n",
    "res['SN0'] = res['SN0'].map('{:,.2f}'.format)\n",
    "res.rename(columns={'SN0':cols[0],'SN1':cols[1]})"
   ]
  },
  {
   "cell_type": "markdown",
   "metadata": {
    "collapsed": true
   },
   "source": [
    "### Purchasing Analysis (Gender)"
   ]
  },
  {
   "cell_type": "code",
   "execution_count": 766,
   "metadata": {},
   "outputs": [
    {
     "data": {
      "text/html": [
       "<div>\n",
       "<style>\n",
       "    .dataframe thead tr:only-child th {\n",
       "        text-align: right;\n",
       "    }\n",
       "\n",
       "    .dataframe thead th {\n",
       "        text-align: left;\n",
       "    }\n",
       "\n",
       "    .dataframe tbody tr th {\n",
       "        vertical-align: top;\n",
       "    }\n",
       "</style>\n",
       "<table border=\"1\" class=\"dataframe\">\n",
       "  <thead>\n",
       "    <tr style=\"text-align: right;\">\n",
       "      <th></th>\n",
       "      <th>Purchase Count</th>\n",
       "      <th>Average Purchase Price</th>\n",
       "      <th>Normalized Totals</th>\n",
       "      <th>Total Purchase Value</th>\n",
       "    </tr>\n",
       "    <tr>\n",
       "      <th>Gender</th>\n",
       "      <th></th>\n",
       "      <th></th>\n",
       "      <th></th>\n",
       "      <th></th>\n",
       "    </tr>\n",
       "  </thead>\n",
       "  <tbody>\n",
       "    <tr>\n",
       "      <th>Female</th>\n",
       "      <td>13</td>\n",
       "      <td>$3.18</td>\n",
       "      <td>$3.18</td>\n",
       "      <td>$41.38</td>\n",
       "    </tr>\n",
       "    <tr>\n",
       "      <th>Male</th>\n",
       "      <td>64</td>\n",
       "      <td>$2.88</td>\n",
       "      <td>$2.88</td>\n",
       "      <td>$184.60</td>\n",
       "    </tr>\n",
       "    <tr>\n",
       "      <th>Other / Non-Disclosed</th>\n",
       "      <td>1</td>\n",
       "      <td>$2.12</td>\n",
       "      <td>$2.12</td>\n",
       "      <td>$2.12</td>\n",
       "    </tr>\n",
       "  </tbody>\n",
       "</table>\n",
       "</div>"
      ],
      "text/plain": [
       "                       Purchase Count Average Purchase Price  \\\n",
       "Gender                                                         \n",
       "Female                             13                  $3.18   \n",
       "Male                               64                  $2.88   \n",
       "Other / Non-Disclosed               1                  $2.12   \n",
       "\n",
       "                      Normalized Totals Total Purchase Value  \n",
       "Gender                                                        \n",
       "Female                            $3.18               $41.38  \n",
       "Male                              $2.88              $184.60  \n",
       "Other / Non-Disclosed             $2.12                $2.12  "
      ]
     },
     "execution_count": 766,
     "metadata": {},
     "output_type": "execute_result"
    }
   ],
   "source": [
    "HofP['Normalized Totals']=pd.DataFrame(HofP.groupby(['Gender'])['Price']\n",
    "                                       .apply(lambda x: (x) / x.count()))\n",
    "pur_ana=pd.DataFrame(HofP.groupby(['Gender']).agg({'Item ID': 'count',\n",
    "                                                    'Price': 'mean',\n",
    "                                                   'Normalized Totals':'sum',\n",
    "                                                     })).rename(columns={'Item ID':'Purchase Count',\n",
    "                                                                         'Price':'Average Purchase Price'})\n",
    "pur_ana['Total Purchase Value']= pur_ana['Purchase Count']*pur_ana['Average Purchase Price']\n",
    "pur_ana['Total Purchase Value']= pur_ana['Total Purchase Value'].map('${:,.2f}'.format)\n",
    "pur_ana['Normalized Totals']= pur_ana['Normalized Totals'].map('${:,.2f}'.format)\n",
    "pur_ana['Average Purchase Price']= pur_ana['Average Purchase Price'].map('${:,.2f}'.format)\n",
    "pur_ana"
   ]
  },
  {
   "cell_type": "code",
   "execution_count": 767,
   "metadata": {
    "scrolled": true
   },
   "outputs": [
    {
     "data": {
      "text/html": [
       "<div>\n",
       "<style>\n",
       "    .dataframe thead tr:only-child th {\n",
       "        text-align: right;\n",
       "    }\n",
       "\n",
       "    .dataframe thead th {\n",
       "        text-align: left;\n",
       "    }\n",
       "\n",
       "    .dataframe tbody tr th {\n",
       "        vertical-align: top;\n",
       "    }\n",
       "</style>\n",
       "<table border=\"1\" class=\"dataframe\">\n",
       "  <thead>\n",
       "    <tr style=\"text-align: right;\">\n",
       "      <th></th>\n",
       "      <th>Percent Count</th>\n",
       "      <th>Total Count</th>\n",
       "    </tr>\n",
       "  </thead>\n",
       "  <tbody>\n",
       "    <tr>\n",
       "      <th>&lt;10</th>\n",
       "      <td>6.76</td>\n",
       "      <td>5</td>\n",
       "    </tr>\n",
       "    <tr>\n",
       "      <th>11-14</th>\n",
       "      <td>4.05</td>\n",
       "      <td>3</td>\n",
       "    </tr>\n",
       "    <tr>\n",
       "      <th>15-18</th>\n",
       "      <td>14.86</td>\n",
       "      <td>11</td>\n",
       "    </tr>\n",
       "    <tr>\n",
       "      <th>19-22</th>\n",
       "      <td>25.68</td>\n",
       "      <td>19</td>\n",
       "    </tr>\n",
       "    <tr>\n",
       "      <th>23-26</th>\n",
       "      <td>28.38</td>\n",
       "      <td>21</td>\n",
       "    </tr>\n",
       "    <tr>\n",
       "      <th>27-30</th>\n",
       "      <td>5.41</td>\n",
       "      <td>4</td>\n",
       "    </tr>\n",
       "    <tr>\n",
       "      <th>31-34</th>\n",
       "      <td>5.41</td>\n",
       "      <td>4</td>\n",
       "    </tr>\n",
       "    <tr>\n",
       "      <th>35-38</th>\n",
       "      <td>6.76</td>\n",
       "      <td>5</td>\n",
       "    </tr>\n",
       "    <tr>\n",
       "      <th>39-42</th>\n",
       "      <td>2.70</td>\n",
       "      <td>2</td>\n",
       "    </tr>\n",
       "    <tr>\n",
       "      <th>43+</th>\n",
       "      <td>0.00</td>\n",
       "      <td>0</td>\n",
       "    </tr>\n",
       "  </tbody>\n",
       "</table>\n",
       "</div>"
      ],
      "text/plain": [
       "      Percent Count  Total Count\n",
       "<10            6.76            5\n",
       "11-14          4.05            3\n",
       "15-18         14.86           11\n",
       "19-22         25.68           19\n",
       "23-26         28.38           21\n",
       "27-30          5.41            4\n",
       "31-34          5.41            4\n",
       "35-38          6.76            5\n",
       "39-42          2.70            2\n",
       "43+            0.00            0"
      ]
     },
     "execution_count": 767,
     "metadata": {},
     "output_type": "execute_result"
    }
   ],
   "source": [
    "HofP1=HofP\n",
    "HofP1['Percent Count']=HofP['SN']\n",
    "HofP1['Total Count']=HofP['SN']\n",
    "\n",
    "def Pyr_count(SN):\n",
    "    return (len(SN.unique()))\n",
    "def Perc_Pyr(SN):\n",
    "    return (len(SN.unique())/HofP['SN'].nunique()*100)\n",
    "\n",
    "rlabel=[[ \"{0}-{1}\".format(i+1, i + 4) for i in range(HofP['Age'].min()-1,\n",
    "                                                       HofP['Age'].max()+4, 4) ]]\n",
    "rlabel[0][0]='<'+ rlabel[0][0][-2:]\n",
    "rlabel[0][len(rlabel[0])-1]=rlabel[0][len(rlabel[0])-1][:2]+'+'\n",
    "\n",
    "a=HofP1.groupby(pd.cut(HofP1['Age'] , \n",
    "                    bins=np.arange(HofP1['Age'].min()-1,\n",
    "                                   HofP1['Age'].max()+8,4),\n",
    "                      right=True)).agg({'Percent Count':Perc_Pyr,\n",
    "                                       'Total Count':Pyr_count}\n",
    "                                      )\n",
    "a.index=rlabel\n",
    "a.fillna(0, inplace=True)\n",
    "a['Total Count']=a['Total Count'].astype(int)\n",
    "a['Percent Count']=a['Percent Count'].map('{:,.2f}'.format)\n",
    "a"
   ]
  },
  {
   "cell_type": "code",
   "execution_count": 768,
   "metadata": {},
   "outputs": [
    {
     "name": "stdout",
     "output_type": "stream",
     "text": [
      "(6, 10] 5\n",
      "(10, 14] 3\n",
      "(14, 18] 11\n",
      "(18, 22] 19\n",
      "(22, 26] 21\n",
      "(26, 30] 4\n",
      "(30, 34] 4\n",
      "(34, 38] 5\n",
      "(38, 42] 2\n",
      "(42, 46] 0\n"
     ]
    }
   ],
   "source": [
    "for a, b in HofP.groupby(pd.cut(HofP['Age'] , \n",
    "                    bins=np.arange(HofP['Age'].min()-1,\n",
    "                                   HofP['Age'].max()+8,4), \n",
    "                      right=True)):\n",
    "    print(a,len(b['SN'].unique()))\n",
    "    #print((b['SN'].unique()))"
   ]
  },
  {
   "cell_type": "code",
   "execution_count": null,
   "metadata": {
    "collapsed": true
   },
   "outputs": [],
   "source": []
  }
 ],
 "metadata": {
  "celltoolbar": "Raw Cell Format",
  "kernelspec": {
   "display_name": "Python 3",
   "language": "python",
   "name": "python3"
  },
  "language_info": {
   "codemirror_mode": {
    "name": "ipython",
    "version": 3
   },
   "file_extension": ".py",
   "mimetype": "text/x-python",
   "name": "python",
   "nbconvert_exporter": "python",
   "pygments_lexer": "ipython3",
   "version": "3.6.3"
  }
 },
 "nbformat": 4,
 "nbformat_minor": 2
}
