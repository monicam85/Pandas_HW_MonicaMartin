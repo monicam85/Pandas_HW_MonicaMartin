{
 "cells": [
  {
   "cell_type": "code",
   "execution_count": null,
   "metadata": {
    "collapsed": true
   },
   "outputs": [],
   "source": [
    "import pandas as pd\n",
    "import numpy as np"
   ]
  },
  {
   "cell_type": "code",
   "execution_count": 656,
   "metadata": {
    "scrolled": true
   },
   "outputs": [
    {
     "data": {
      "text/html": [
       "<div>\n",
       "<style>\n",
       "    .dataframe thead tr:only-child th {\n",
       "        text-align: right;\n",
       "    }\n",
       "\n",
       "    .dataframe thead th {\n",
       "        text-align: left;\n",
       "    }\n",
       "\n",
       "    .dataframe tbody tr th {\n",
       "        vertical-align: top;\n",
       "    }\n",
       "</style>\n",
       "<table border=\"1\" class=\"dataframe\">\n",
       "  <thead>\n",
       "    <tr style=\"text-align: right;\">\n",
       "      <th></th>\n",
       "      <th>Age</th>\n",
       "      <th>Gender</th>\n",
       "      <th>Item ID</th>\n",
       "      <th>Item Name</th>\n",
       "      <th>Price</th>\n",
       "      <th>SN</th>\n",
       "    </tr>\n",
       "  </thead>\n",
       "  <tbody>\n",
       "    <tr>\n",
       "      <th>0</th>\n",
       "      <td>38</td>\n",
       "      <td>Male</td>\n",
       "      <td>165</td>\n",
       "      <td>Bone Crushing Silver Skewer</td>\n",
       "      <td>3.37</td>\n",
       "      <td>Aelalis34</td>\n",
       "    </tr>\n",
       "    <tr>\n",
       "      <th>1</th>\n",
       "      <td>21</td>\n",
       "      <td>Male</td>\n",
       "      <td>119</td>\n",
       "      <td>Stormbringer, Dark Blade of Ending Misery</td>\n",
       "      <td>2.32</td>\n",
       "      <td>Eolo46</td>\n",
       "    </tr>\n",
       "    <tr>\n",
       "      <th>2</th>\n",
       "      <td>34</td>\n",
       "      <td>Male</td>\n",
       "      <td>174</td>\n",
       "      <td>Primitive Blade</td>\n",
       "      <td>2.46</td>\n",
       "      <td>Assastnya25</td>\n",
       "    </tr>\n",
       "    <tr>\n",
       "      <th>3</th>\n",
       "      <td>21</td>\n",
       "      <td>Male</td>\n",
       "      <td>92</td>\n",
       "      <td>Final Critic</td>\n",
       "      <td>1.36</td>\n",
       "      <td>Pheusrical25</td>\n",
       "    </tr>\n",
       "    <tr>\n",
       "      <th>4</th>\n",
       "      <td>23</td>\n",
       "      <td>Male</td>\n",
       "      <td>63</td>\n",
       "      <td>Stormfury Mace</td>\n",
       "      <td>1.27</td>\n",
       "      <td>Aela59</td>\n",
       "    </tr>\n",
       "    <tr>\n",
       "      <th>5</th>\n",
       "      <td>20</td>\n",
       "      <td>Male</td>\n",
       "      <td>10</td>\n",
       "      <td>Sleepwalker</td>\n",
       "      <td>1.73</td>\n",
       "      <td>Tanimnya91</td>\n",
       "    </tr>\n",
       "    <tr>\n",
       "      <th>6</th>\n",
       "      <td>20</td>\n",
       "      <td>Male</td>\n",
       "      <td>153</td>\n",
       "      <td>Mercenary Sabre</td>\n",
       "      <td>4.57</td>\n",
       "      <td>Undjaskla97</td>\n",
       "    </tr>\n",
       "    <tr>\n",
       "      <th>7</th>\n",
       "      <td>29</td>\n",
       "      <td>Female</td>\n",
       "      <td>169</td>\n",
       "      <td>Interrogator, Blood Blade of the Queen</td>\n",
       "      <td>3.32</td>\n",
       "      <td>Iathenudil29</td>\n",
       "    </tr>\n",
       "    <tr>\n",
       "      <th>8</th>\n",
       "      <td>25</td>\n",
       "      <td>Male</td>\n",
       "      <td>118</td>\n",
       "      <td>Ghost Reaver, Longsword of Magic</td>\n",
       "      <td>2.77</td>\n",
       "      <td>Sondenasta63</td>\n",
       "    </tr>\n",
       "    <tr>\n",
       "      <th>9</th>\n",
       "      <td>31</td>\n",
       "      <td>Male</td>\n",
       "      <td>99</td>\n",
       "      <td>Expiration, Warscythe Of Lost Worlds</td>\n",
       "      <td>4.53</td>\n",
       "      <td>Hilaerin92</td>\n",
       "    </tr>\n",
       "  </tbody>\n",
       "</table>\n",
       "</div>"
      ],
      "text/plain": [
       "   Age  Gender  Item ID                                  Item Name  Price  \\\n",
       "0   38    Male      165                Bone Crushing Silver Skewer   3.37   \n",
       "1   21    Male      119  Stormbringer, Dark Blade of Ending Misery   2.32   \n",
       "2   34    Male      174                            Primitive Blade   2.46   \n",
       "3   21    Male       92                               Final Critic   1.36   \n",
       "4   23    Male       63                             Stormfury Mace   1.27   \n",
       "5   20    Male       10                                Sleepwalker   1.73   \n",
       "6   20    Male      153                            Mercenary Sabre   4.57   \n",
       "7   29  Female      169     Interrogator, Blood Blade of the Queen   3.32   \n",
       "8   25    Male      118           Ghost Reaver, Longsword of Magic   2.77   \n",
       "9   31    Male       99       Expiration, Warscythe Of Lost Worlds   4.53   \n",
       "\n",
       "             SN  \n",
       "0     Aelalis34  \n",
       "1        Eolo46  \n",
       "2   Assastnya25  \n",
       "3  Pheusrical25  \n",
       "4        Aela59  \n",
       "5    Tanimnya91  \n",
       "6   Undjaskla97  \n",
       "7  Iathenudil29  \n",
       "8  Sondenasta63  \n",
       "9    Hilaerin92  "
      ]
     },
     "execution_count": 656,
     "metadata": {},
     "output_type": "execute_result"
    }
   ],
   "source": [
    "HofP=pd.read_json('./HeroesOfPymoli/purchase_data.json')\n",
    "HofP.head(10)"
   ]
  },
  {
   "cell_type": "markdown",
   "metadata": {},
   "source": [
    "### Player Count"
   ]
  },
  {
   "cell_type": "code",
   "execution_count": null,
   "metadata": {},
   "outputs": [],
   "source": [
    "pd.DataFrame(data={'Total Players': [HofP['SN'].nunique()]})"
   ]
  },
  {
   "cell_type": "markdown",
   "metadata": {},
   "source": [
    "### Purchasing Analysis (Total)"
   ]
  },
  {
   "cell_type": "code",
   "execution_count": null,
   "metadata": {},
   "outputs": [],
   "source": [
    "keys =['Number of Unique Items','Average Price','Number of Purchases','Total Revenue']\n",
    "unique_items= HofP['Item ID'].nunique()                  \n",
    "ave_price = HofP['Price'].mean()\n",
    "total_purchase = HofP['Item ID'].count()\n",
    "total_revenue = HofP['Price'].sum()\n",
    "purchase_ana = {'Number of Unique Items': [unique_items],'Average Price': [ave_price],\n",
    "                'Number of Purchases': [total_purchase],'Total Revenue': [total_revenue]}\n",
    "purchase_ana_df = pd.DataFrame(data=purchase_ana, columns=keys)\n",
    "purchase_ana_df['Average Price'] = purchase_ana_df['Average Price'].map('${:,.2f}'.format)\n",
    "purchase_ana_df['Total Revenue'] = purchase_ana_df['Total Revenue'].map('${:,.2f}'.format)\n",
    "purchase_ana_df"
   ]
  },
  {
   "cell_type": "markdown",
   "metadata": {
    "collapsed": true
   },
   "source": [
    "### Gender Demographics"
   ]
  },
  {
   "cell_type": "code",
   "execution_count": null,
   "metadata": {},
   "outputs": [],
   "source": [
    "cols=['Percentage of Players',' Total Count ']\n",
    "genders=[HofP['Gender'].unique()]\n",
    "gender_grp_counts=pd.DataFrame(HofP.groupby(HofP['Gender'])['SN'].nunique(), \n",
    "                               index=genders)\n",
    "per_plyr=pd.DataFrame(gender_grp_counts['SN']/gender_grp_counts['SN'].sum()*100)\n",
    "res=per_plyr.set_index(genders).join(gender_grp_counts.set_index(genders),\n",
    "                                                     lsuffix='0', rsuffix='1')\n",
    "res['SN0'] = res['SN0'].map('{:,.2f}'.format)\n",
    "res.rename(columns={'SN0':cols[0],'SN1':cols[1]})"
   ]
  },
  {
   "cell_type": "markdown",
   "metadata": {
    "collapsed": true
   },
   "source": [
    "### Purchasing Analysis (Gender)"
   ]
  },
  {
   "cell_type": "code",
   "execution_count": null,
   "metadata": {},
   "outputs": [],
   "source": [
    "HofP['Normalized Totals']=pd.DataFrame(HofP.groupby(['Gender'])['Price']\n",
    "                                       .apply(lambda x: (x) / x.count()))\n",
    "pur_ana=pd.DataFrame(HofP.groupby(['Gender']).agg({'Item ID': 'count',\n",
    "                                                    'Price': 'mean',\n",
    "                                                   'Normalized Totals':'sum',\n",
    "                                                     })).rename(columns={'Item ID':'Purchase Count',\n",
    "                                                                         'Price':'Average Purchase Price'})\n",
    "pur_ana['Total Purchase Value']= pur_ana['Purchase Count']*pur_ana['Average Purchase Price']\n",
    "#pur_ana['Normalized Totals']=(HofP.groupby(['Gender'])['Price']\n",
    "#                                       .apply(lambda x: (x) / x.count())).sum()\n",
    "pur_ana"
   ]
  },
  {
   "cell_type": "code",
   "execution_count": 662,
   "metadata": {
    "scrolled": true
   },
   "outputs": [
    {
     "data": {
      "text/html": [
       "<div>\n",
       "<style>\n",
       "    .dataframe thead tr:only-child th {\n",
       "        text-align: right;\n",
       "    }\n",
       "\n",
       "    .dataframe thead th {\n",
       "        text-align: left;\n",
       "    }\n",
       "\n",
       "    .dataframe tbody tr th {\n",
       "        vertical-align: top;\n",
       "    }\n",
       "</style>\n",
       "<table border=\"1\" class=\"dataframe\">\n",
       "  <thead>\n",
       "    <tr>\n",
       "      <th></th>\n",
       "      <th colspan=\"2\" halign=\"left\">SN</th>\n",
       "    </tr>\n",
       "    <tr>\n",
       "      <th></th>\n",
       "      <th>Pyr_count</th>\n",
       "      <th>Perc_Pyr</th>\n",
       "    </tr>\n",
       "    <tr>\n",
       "      <th>Age</th>\n",
       "      <th></th>\n",
       "      <th></th>\n",
       "    </tr>\n",
       "  </thead>\n",
       "  <tbody>\n",
       "    <tr>\n",
       "      <th>(6, 10]</th>\n",
       "      <td>22.0</td>\n",
       "      <td>3.839442</td>\n",
       "    </tr>\n",
       "    <tr>\n",
       "      <th>(10, 14]</th>\n",
       "      <td>20.0</td>\n",
       "      <td>3.490401</td>\n",
       "    </tr>\n",
       "    <tr>\n",
       "      <th>(14, 18]</th>\n",
       "      <td>84.0</td>\n",
       "      <td>14.659686</td>\n",
       "    </tr>\n",
       "    <tr>\n",
       "      <th>(18, 22]</th>\n",
       "      <td>178.0</td>\n",
       "      <td>31.064572</td>\n",
       "    </tr>\n",
       "    <tr>\n",
       "      <th>(22, 26]</th>\n",
       "      <td>153.0</td>\n",
       "      <td>26.701571</td>\n",
       "    </tr>\n",
       "    <tr>\n",
       "      <th>(26, 30]</th>\n",
       "      <td>44.0</td>\n",
       "      <td>7.678883</td>\n",
       "    </tr>\n",
       "    <tr>\n",
       "      <th>(30, 34]</th>\n",
       "      <td>34.0</td>\n",
       "      <td>5.933682</td>\n",
       "    </tr>\n",
       "    <tr>\n",
       "      <th>(34, 38]</th>\n",
       "      <td>25.0</td>\n",
       "      <td>4.363002</td>\n",
       "    </tr>\n",
       "    <tr>\n",
       "      <th>(38, 42]</th>\n",
       "      <td>11.0</td>\n",
       "      <td>1.919721</td>\n",
       "    </tr>\n",
       "    <tr>\n",
       "      <th>(42, 46]</th>\n",
       "      <td>2.0</td>\n",
       "      <td>0.349040</td>\n",
       "    </tr>\n",
       "    <tr>\n",
       "      <th>(46, 50]</th>\n",
       "      <td>NaN</td>\n",
       "      <td>NaN</td>\n",
       "    </tr>\n",
       "  </tbody>\n",
       "</table>\n",
       "</div>"
      ],
      "text/plain": [
       "                SN           \n",
       "         Pyr_count   Perc_Pyr\n",
       "Age                          \n",
       "(6, 10]       22.0   3.839442\n",
       "(10, 14]      20.0   3.490401\n",
       "(14, 18]      84.0  14.659686\n",
       "(18, 22]     178.0  31.064572\n",
       "(22, 26]     153.0  26.701571\n",
       "(26, 30]      44.0   7.678883\n",
       "(30, 34]      34.0   5.933682\n",
       "(34, 38]      25.0   4.363002\n",
       "(38, 42]      11.0   1.919721\n",
       "(42, 46]       2.0   0.349040\n",
       "(46, 50]       NaN        NaN"
      ]
     },
     "execution_count": 662,
     "metadata": {},
     "output_type": "execute_result"
    }
   ],
   "source": [
    "pur_ana=gender_grp_counts.join([mean],sort=True)\n",
    "pur_ana['Total Purchase Value ']=[pur_ana['Price'][x]*pur_ana['SN'][x] for x in range(len(genders[0]))]\n",
    "pur_ana['Normalized Totals']=[pur_ana['Price'][x]*pur_ana['SN'][x] for x in range(len(genders[0]))]\n",
    "pur_ana.groupby(['SN'])\n",
    "pur_ana\n",
    "\n",
    "def Pyr_count(SN):\n",
    "    return (len(SN.unique()))\n",
    "def Perc_Pyr(SN):\n",
    "    return (len(SN.unique())/HofP['SN'].nunique()*100)\n",
    "\n",
    "a=HofP.groupby(pd.cut(HofP['Age'] , \n",
    "                    bins=np.arange(HofP['Age'].min()-1,\n",
    "                                   HofP['Age'].max()+8,4), \n",
    "                      right=True)).agg({'SN':{Perc_Pyr, Pyr_count}}\n",
    "                                      )#.rename(columns={'SN':'Total Count'})\n",
    "a\n",
    "\n"
   ]
  },
  {
   "cell_type": "code",
   "execution_count": 620,
   "metadata": {},
   "outputs": [],
   "source": [
    "a.index=[[ \"{0}-{1}\".format(i+1, i + 4) for i in range(HofP['Age'].min()-1, HofP['Age'].max()+4, 4) ]]"
   ]
  },
  {
   "cell_type": "code",
   "execution_count": 653,
   "metadata": {},
   "outputs": [
    {
     "data": {
      "text/plain": [
       "pandas.core.frame.DataFrame"
      ]
     },
     "execution_count": 653,
     "metadata": {},
     "output_type": "execute_result"
    }
   ],
   "source": [
    "a=pd.DataFrame(a)#.dtypes#keys()#['Total Count']#.map('{:,i}'.format)#'<'+a.index[0].split('-')[1]\n",
    "type(a)\n"
   ]
  },
  {
   "cell_type": "code",
   "execution_count": 602,
   "metadata": {},
   "outputs": [
    {
     "name": "stdout",
     "output_type": "stream",
     "text": [
      "(6, 10] 22\n",
      "(10, 14] 20\n",
      "(14, 18] 84\n",
      "(18, 22] 178\n",
      "(22, 26] 153\n",
      "(26, 30] 44\n",
      "(30, 34] 34\n",
      "(34, 38] 25\n",
      "(38, 42] 11\n",
      "(42, 46] 2\n",
      "(46, 50] 0\n"
     ]
    }
   ],
   "source": [
    "for a, b in HofP.groupby(pd.cut(HofP['Age'] , \n",
    "                    bins=np.arange(HofP['Age'].min()-1,\n",
    "                                   HofP['Age'].max()+8,4), \n",
    "                      right=True)):\n",
    "    print(a,len(b['SN'].unique()))\n",
    "    #print((b['SN'].unique()))"
   ]
  },
  {
   "cell_type": "code",
   "execution_count": null,
   "metadata": {
    "collapsed": true
   },
   "outputs": [],
   "source": []
  }
 ],
 "metadata": {
  "celltoolbar": "Raw Cell Format",
  "kernelspec": {
   "display_name": "Python 3",
   "language": "python",
   "name": "python3"
  },
  "language_info": {
   "codemirror_mode": {
    "name": "ipython",
    "version": 3
   },
   "file_extension": ".py",
   "mimetype": "text/x-python",
   "name": "python",
   "nbconvert_exporter": "python",
   "pygments_lexer": "ipython3",
   "version": "3.6.3"
  }
 },
 "nbformat": 4,
 "nbformat_minor": 2
}
